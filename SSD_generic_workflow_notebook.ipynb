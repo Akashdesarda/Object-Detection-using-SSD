{
 "cells": [
  {
   "cell_type": "markdown",
   "metadata": {},
   "source": [
    "# Objet Detection using Single Shot Multibox Detetor (SSD)\n",
    "---\n",
    "\n",
    "This is a Keras port of the SSD model architecture introduced by Wei Liu et al. in the paper [SSD: Single Shot MultiBox Detector](https://arxiv.org/abs/1512.02325)\n",
    "and originally implemented by Pierluigi Ferrari & can be found [here](https://github.com/pierluigiferrari/ssd_keras)"
   ]
  },
  {
   "cell_type": "code",
   "execution_count": null,
   "metadata": {},
   "outputs": [],
   "source": [
    "from executor import executor"
   ]
  },
  {
   "cell_type": "markdown",
   "metadata": {},
   "source": [
    "## Training & Inference\n",
    "---\n",
    "Give all Hyperparameters here"
   ]
  },
  {
   "cell_type": "markdown",
   "metadata": {},
   "source": [
    "### Step 1: Pre-Configration for Training/Inference"
   ]
  },
  {
   "cell_type": "code",
   "execution_count": null,
   "metadata": {},
   "outputs": [],
   "source": [
    "# Limiting GPU utilization\n",
    "limit_gpu = True # True: Enable TF's limit memory graph; False: Not enable\n",
    "mode = 'inference' # either 'training' or 'inference'\n",
    "# Image property\n",
    "img_height = 300 # Height of image\n",
    "img_width = 300 # Width of image\n",
    "img_channels = 3 # Color channel, 3 for RGB"
   ]
  },
  {
   "cell_type": "markdown",
   "metadata": {},
   "source": [
    "### Step 2(A): Data Loading for Training\n",
    "Provide here image directories, annotations, imagesets"
   ]
  },
  {
   "cell_type": "code",
   "execution_count": null,
   "metadata": {},
   "outputs": [],
   "source": [
    "#  Optional: If you have enough memory, consider loading the images into memory as it is much faster\n",
    "train_load_images_into_memory = True # True: Will load all images into memory; False: Keeeps on disk, but much slower\n",
    "validation_load_images_into_memory = True #same as above\n",
    "\n",
    "# Dataset location\n",
    "train_img_dir = './dataset/training/JPEGImages/'\n",
    "train_annotation_dir = './dataset/training/Annotations/'\n",
    "train_image_set_filename = './dataset/training/ImageSets/Main/trainval.txt'\n",
    "\n",
    "val_img_dir = './dataset/test/JPEGImages/'\n",
    "val_annotation_dir = './dataset/test/Annotations/'\n",
    "val_image_set_filename = './dataset/test/ImageSets/Main/test.txt'"
   ]
  },
  {
   "cell_type": "markdown",
   "metadata": {},
   "source": [
    "### Step 2(B): Video or Data loading for Inference\n",
    "Give either video or set of images as input"
   ]
  },
  {
   "cell_type": "code",
   "execution_count": 1,
   "metadata": {},
   "outputs": [],
   "source": [
    "video_input_path = 'funny_dog.mp4'\n",
    "video_to_frames_export_path = './assets/frames_data'\n",
    "# TODO: Create Inference logic for image dir"
   ]
  },
  {
   "cell_type": "markdown",
   "metadata": {},
   "source": [
    "### Step 3: Common Hyperparameter\n",
    "This will remain common for both service"
   ]
  },
  {
   "cell_type": "code",
   "execution_count": null,
   "metadata": {},
   "outputs": [],
   "source": [
    "classes = ['background', 'aeroplane', 'bicycle', 'bird', 'boat', 'bottle', 'bus', 'car', 'cat', 'chair', 'cow', 'diningtable', 'dog', 'horse', 'motorbike', 'person', 'pottedplant', 'sheep', 'sofa', 'train', 'tvmonitor']\n",
    "n_classes = 20"
   ]
  },
  {
   "cell_type": "markdown",
   "metadata": {},
   "source": [
    "### Step 4(A): Training Hyperparameter"
   ]
  },
  {
   "cell_type": "code",
   "execution_count": null,
   "metadata": {},
   "outputs": [],
   "source": [
    "# Training Hyperparameters\n",
    "l2_regularization = 0.0005\n",
    "pos_iou_threshold = 0.5\n",
    "learning_rate = 0.001\n",
    "steps_per_epoch = 1000\n",
    "batch_size = 16\n",
    "epochs = 2"
   ]
  },
  {
   "cell_type": "markdown",
   "metadata": {},
   "source": [
    "### Step  4(B): Inference Hyperparameter"
   ]
  },
  {
   "cell_type": "code",
   "execution_count": null,
   "metadata": {},
   "outputs": [],
   "source": [
    "weights_path= './weights/VGG_VOC0712_SSD_300x300_iter_120000.h5' # Load weights\n",
    "confidence_threshold= 0.6 # Threshold to select prediction"
   ]
  },
  {
   "cell_type": "markdown",
   "metadata": {},
   "source": [
    "### Step 5(A): Saving produced Training assets"
   ]
  },
  {
   "cell_type": "code",
   "execution_count": null,
   "metadata": {},
   "outputs": [],
   "source": [
    "# Model Weights\n",
    "weight_save_path = './assets/weights/'\n",
    "\n",
    "# Log csv\n",
    "csv_log_save_path = './assets/'"
   ]
  },
  {
   "cell_type": "markdown",
   "metadata": {},
   "source": [
    "### Step  5(B): Saving Inference assets"
   ]
  },
  {
   "cell_type": "code",
   "execution_count": null,
   "metadata": {},
   "outputs": [],
   "source": [
    "predicted_frames_export_path= './assets/results' # Here frames with predicted bounding box will be saved\n",
    "video_output_path = \"./assets/\" # Here video with predicted bounding box will be saved"
   ]
  },
  {
   "cell_type": "markdown",
   "metadata": {},
   "source": [
    "### Step 6: Invoking Job"
   ]
  },
  {
   "cell_type": "code",
   "execution_count": null,
   "metadata": {},
   "outputs": [],
   "source": [
    "executor(locals())"
   ]
  },
  {
   "cell_type": "code",
   "execution_count": null,
   "metadata": {},
   "outputs": [],
   "source": []
  }
 ],
 "metadata": {
  "kernelspec": {
   "display_name": "Python 3.7.4 64-bit ('base': conda)",
   "language": "python",
   "name": "python37464bitbasecondad442884048ed43e0a1ceca58168dba20"
  },
  "language_info": {
   "codemirror_mode": {
    "name": "ipython",
    "version": 3
   },
   "file_extension": ".py",
   "mimetype": "text/x-python",
   "name": "python",
   "nbconvert_exporter": "python",
   "pygments_lexer": "ipython3",
   "version": "3.7.4"
  }
 },
 "nbformat": 4,
 "nbformat_minor": 4
}
