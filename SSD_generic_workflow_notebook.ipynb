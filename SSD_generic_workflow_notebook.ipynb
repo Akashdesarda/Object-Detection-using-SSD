{
 "cells": [
  {
   "cell_type": "markdown",
   "metadata": {},
   "source": [
    "# Objet Detection using Single Shot Multibox Detetor (SSD)\n",
    "---\n",
    "\n",
    "This is a Keras port of the SSD model architecture introduced by Wei Liu et al. in the paper [SSD: Single Shot MultiBox Detector](https://arxiv.org/abs/1512.02325)\n",
    "and originally implemented by Pierluigi Ferrari & can be found [here](https://github.com/pierluigiferrari/ssd_keras)"
   ]
  },
  {
   "cell_type": "code",
   "execution_count": 1,
   "metadata": {},
   "outputs": [
    {
     "name": "stderr",
     "output_type": "stream",
     "text": [
      "Using TensorFlow backend.\n"
     ]
    }
   ],
   "source": [
    "from executor import executor"
   ]
  },
  {
   "cell_type": "markdown",
   "metadata": {},
   "source": [
    "## Part A: Training\n",
    "---"
   ]
  },
  {
   "cell_type": "markdown",
   "metadata": {},
   "source": [
    "### Step 1: Pre-Configration"
   ]
  },
  {
   "cell_type": "code",
   "execution_count": 2,
   "metadata": {},
   "outputs": [],
   "source": [
    "# Limiting GPU utilization\n",
    "limit_gpu = True # True: Enable TF's limit memory graph; False: Not enable\n",
    "\n",
    "# Image property\n",
    "img_height = 300 # Height of image\n",
    "img_width = 300 # Width of image\n",
    "img_channels = 3 # Color channel, 3 for RGB"
   ]
  },
  {
   "cell_type": "markdown",
   "metadata": {},
   "source": [
    "### Step 2: Data Loading\n",
    "Provide here image directories, annotations, imagesets"
   ]
  },
  {
   "cell_type": "code",
   "execution_count": 3,
   "metadata": {},
   "outputs": [],
   "source": [
    "#  Optional: If you have enough memory, consider loading the images into memory as it is much faster\n",
    "train_load_images_into_memory = True # True: Will load all images into memory; False: Keeeps on disk, but much slower\n",
    "validation_load_images_into_memory = True #same as above\n",
    "\n",
    "# Dataset location\n",
    "train_img_dir = './dataset/training/JPEGImages/'\n",
    "train_annotation_dir = './dataset/training/Annotations/'\n",
    "train_image_set_filename = './dataset/training/ImageSets/Main/trainval.txt'\n",
    "\n",
    "val_img_dir = './dataset/test/JPEGImages/'\n",
    "val_annotation_dir = './dataset/test/Annotations/'\n",
    "val_image_set_filename = './dataset/test/ImageSets/Main/test.txt'"
   ]
  },
  {
   "cell_type": "markdown",
   "metadata": {},
   "source": [
    "### Step 2: Training Hyperparameter"
   ]
  },
  {
   "cell_type": "code",
   "execution_count": 4,
   "metadata": {},
   "outputs": [],
   "source": [
    "# classes\n",
    "classes = ['background', 'aeroplane', 'bicycle', 'bird', 'boat', 'bottle', 'bus', 'car', 'cat', 'chair', 'cow', 'diningtable', 'dog', 'horse', 'motorbike', 'person', 'pottedplant', 'sheep', 'sofa', 'train', 'tvmonitor']\n",
    "n_classes = 20\n",
    "\n",
    "# Training Hyperparameters\n",
    "l2_regularization = 0.0005\n",
    "pos_iou_threshold = 0.5\n",
    "learning_rate = 0.001\n",
    "steps_per_epoch = 1000\n",
    "batch_size = 16\n",
    "epochs = 2"
   ]
  },
  {
   "cell_type": "markdown",
   "metadata": {},
   "source": [
    "### Step 3: Saving produced assets"
   ]
  },
  {
   "cell_type": "code",
   "execution_count": 5,
   "metadata": {},
   "outputs": [],
   "source": [
    "# Model Weights\n",
    "weight_save_path = './assets/weights/'\n",
    "\n",
    "# Log csv\n",
    "csv_log_save_path = './assets/'"
   ]
  },
  {
   "cell_type": "markdown",
   "metadata": {},
   "source": [
    "### Step 4: Invoking Job"
   ]
  },
  {
   "cell_type": "code",
   "execution_count": 6,
   "metadata": {},
   "outputs": [
    {
     "name": "stdout",
     "output_type": "stream",
     "text": [
      "1 Physical GPUs, 1 Logical GPUs\n",
      "[INFO]... You have chosen to load data into memory\n",
      "Processing image set 'trainval.txt': 100%|██████████| 11540/11540 [01:17<00:00, 149.16it/s]\n",
      "Loading images into memory: 100%|██████████| 11540/11540 [02:29<00:00, 77.35it/s]\n",
      "Processing image set 'test.txt': 100%|██████████| 4952/4952 [00:21<00:00, 233.66it/s]\n",
      "Loading images into memory: 100%|██████████| 4952/4952 [00:53<00:00, 92.00it/s] \n",
      "[INFO]...Time taken by Data loading/transformation Job is 5.03 min(s)\n",
      "WARNING:tensorflow:From /home/akash/anaconda3/lib/python3.7/site-packages/keras/backend/tensorflow_backend.py:4070: The name tf.nn.max_pool is deprecated. Please use tf.nn.max_pool2d instead.\n",
      "\n",
      "tracking <tf.Variable 'conv4_3_norm/conv4_3_norm_gamma:0' shape=(512,) dtype=float32> gamma\n",
      "WARNING:tensorflow:From /home/akash/project/Object-Detection-using-SSD/keras_loss_function/keras_ssd_loss.py:95: The name tf.log is deprecated. Please use tf.math.log instead.\n",
      "\n",
      "WARNING:tensorflow:From /home/akash/project/Object-Detection-using-SSD/keras_loss_function/keras_ssd_loss.py:133: to_float (from tensorflow.python.ops.math_ops) is deprecated and will be removed in a future version.\n",
      "Instructions for updating:\n",
      "Use `tf.cast` instead.\n",
      "WARNING:tensorflow:From /home/akash/project/Object-Detection-using-SSD/keras_loss_function/keras_ssd_loss.py:74: add_dispatch_support.<locals>.wrapper (from tensorflow.python.ops.array_ops) is deprecated and will be removed in a future version.\n",
      "Instructions for updating:\n",
      "Use tf.where in 2.0, which has the same broadcast rule as np.where\n",
      "WARNING:tensorflow:From /home/akash/project/Object-Detection-using-SSD/keras_loss_function/keras_ssd_loss.py:166: to_int32 (from tensorflow.python.ops.math_ops) is deprecated and will be removed in a future version.\n",
      "Instructions for updating:\n",
      "Use `tf.cast` instead.\n",
      "[INFO]...Number of images in the training dataset: 11540\n",
      "[INFO]...Number of images in the validation dataset: 4952\n",
      "[INFO]...Weights will be saved at ./assets/weights/\n",
      "WARNING:tensorflow:From /home/akash/anaconda3/lib/python3.7/site-packages/keras/backend/tensorflow_backend.py:422: The name tf.global_variables is deprecated. Please use tf.compat.v1.global_variables instead.\n",
      "\n",
      "Epoch 1/2\n",
      "\n",
      "Epoch 00001: LearningRateScheduler setting learning rate to 0.001.\n",
      "1000/1000 [==============================] - 714s 714ms/step - loss: 9.7555 - val_loss: 7.3312\n",
      "\n",
      "Epoch 00001: val_loss improved from inf to 7.33122, saving model to ./assets/weights//ssd_epoch-01_loss-9.7555.hfd5\n",
      "Epoch 2/2\n",
      "\n",
      "Epoch 00002: LearningRateScheduler setting learning rate to 0.001.\n",
      "1000/1000 [==============================] - 690s 690ms/step - loss: 7.8146 - val_loss: 7.1541\n",
      "\n",
      "Epoch 00002: val_loss improved from 7.33122 to 7.15414, saving model to ./assets/weights//ssd_epoch-02_loss-7.8147.hfd5\n",
      "[INFO]...Total time taken by Training Job is 23.66 min(s)\n",
      "['INFO]...Time taken by training is 28.71 min(s)\n"
     ]
    }
   ],
   "source": [
    "executor(locals())"
   ]
  },
  {
   "cell_type": "code",
   "execution_count": null,
   "metadata": {},
   "outputs": [],
   "source": []
  }
 ],
 "metadata": {
  "kernelspec": {
   "display_name": "Python 3.7.4 64-bit ('base': conda)",
   "language": "python",
   "name": "python37464bitbasecondad442884048ed43e0a1ceca58168dba20"
  },
  "language_info": {
   "codemirror_mode": {
    "name": "ipython",
    "version": 3
   },
   "file_extension": ".py",
   "mimetype": "text/x-python",
   "name": "python",
   "nbconvert_exporter": "python",
   "pygments_lexer": "ipython3",
   "version": "3.7.4"
  }
 },
 "nbformat": 4,
 "nbformat_minor": 4
}
